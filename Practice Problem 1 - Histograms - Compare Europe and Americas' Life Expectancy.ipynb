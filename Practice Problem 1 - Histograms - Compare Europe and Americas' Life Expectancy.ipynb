{
 "cells": [
  {
   "cell_type": "markdown",
   "id": "f815e75d",
   "metadata": {},
   "source": [
    "# Practice Problem 1"
   ]
  },
  {
   "cell_type": "markdown",
   "id": "34ae6fe0",
   "metadata": {},
   "source": [
    "## Problem: Compare life expectancy's distributions of Europe and Americas in 1997."
   ]
  },
  {
   "cell_type": "markdown",
   "id": "bfd09c69",
   "metadata": {},
   "source": [
    "#### Use pyplot's hist() funciton to draw histograms and subplot() to compare them."
   ]
  },
  {
   "cell_type": "code",
   "execution_count": 2,
   "id": "76bf319f",
   "metadata": {},
   "outputs": [],
   "source": [
    "import pandas as pd\n",
    "from matplotlib import pyplot as plt"
   ]
  },
  {
   "cell_type": "code",
   "execution_count": 3,
   "id": "a89ebace",
   "metadata": {},
   "outputs": [
    {
     "data": {
      "text/html": [
       "<div>\n",
       "<style scoped>\n",
       "    .dataframe tbody tr th:only-of-type {\n",
       "        vertical-align: middle;\n",
       "    }\n",
       "\n",
       "    .dataframe tbody tr th {\n",
       "        vertical-align: top;\n",
       "    }\n",
       "\n",
       "    .dataframe thead th {\n",
       "        text-align: right;\n",
       "    }\n",
       "</style>\n",
       "<table border=\"1\" class=\"dataframe\">\n",
       "  <thead>\n",
       "    <tr style=\"text-align: right;\">\n",
       "      <th></th>\n",
       "      <th>country</th>\n",
       "      <th>continent</th>\n",
       "      <th>year</th>\n",
       "      <th>lifeExpectancy</th>\n",
       "      <th>population</th>\n",
       "      <th>gdpPerCapita</th>\n",
       "    </tr>\n",
       "  </thead>\n",
       "  <tbody>\n",
       "    <tr>\n",
       "      <th>0</th>\n",
       "      <td>Afghanistan</td>\n",
       "      <td>Asia</td>\n",
       "      <td>1952</td>\n",
       "      <td>28.801</td>\n",
       "      <td>8425333</td>\n",
       "      <td>779.445314</td>\n",
       "    </tr>\n",
       "    <tr>\n",
       "      <th>1</th>\n",
       "      <td>Afghanistan</td>\n",
       "      <td>Asia</td>\n",
       "      <td>1957</td>\n",
       "      <td>30.332</td>\n",
       "      <td>9240934</td>\n",
       "      <td>820.853030</td>\n",
       "    </tr>\n",
       "    <tr>\n",
       "      <th>2</th>\n",
       "      <td>Afghanistan</td>\n",
       "      <td>Asia</td>\n",
       "      <td>1962</td>\n",
       "      <td>31.997</td>\n",
       "      <td>10267083</td>\n",
       "      <td>853.100710</td>\n",
       "    </tr>\n",
       "    <tr>\n",
       "      <th>3</th>\n",
       "      <td>Afghanistan</td>\n",
       "      <td>Asia</td>\n",
       "      <td>1967</td>\n",
       "      <td>34.020</td>\n",
       "      <td>11537966</td>\n",
       "      <td>836.197138</td>\n",
       "    </tr>\n",
       "    <tr>\n",
       "      <th>4</th>\n",
       "      <td>Afghanistan</td>\n",
       "      <td>Asia</td>\n",
       "      <td>1972</td>\n",
       "      <td>36.088</td>\n",
       "      <td>13079460</td>\n",
       "      <td>739.981106</td>\n",
       "    </tr>\n",
       "  </tbody>\n",
       "</table>\n",
       "</div>"
      ],
      "text/plain": [
       "       country continent  year  lifeExpectancy  population  gdpPerCapita\n",
       "0  Afghanistan      Asia  1952          28.801     8425333    779.445314\n",
       "1  Afghanistan      Asia  1957          30.332     9240934    820.853030\n",
       "2  Afghanistan      Asia  1962          31.997    10267083    853.100710\n",
       "3  Afghanistan      Asia  1967          34.020    11537966    836.197138\n",
       "4  Afghanistan      Asia  1972          36.088    13079460    739.981106"
      ]
     },
     "execution_count": 3,
     "metadata": {},
     "output_type": "execute_result"
    }
   ],
   "source": [
    "data = pd.read_csv('data/countries.csv')\n",
    "data.head()"
   ]
  },
  {
   "cell_type": "code",
   "execution_count": 6,
   "id": "0a4c7a0b",
   "metadata": {},
   "outputs": [],
   "source": [
    "data_1997 = data[data.year == 1997]\n",
    "americas_1997 = data_1997[data_1997.continent == 'Americas']\n",
    "europe_1997 = data_1997[data_1997.continent == 'Europe']"
   ]
  },
  {
   "cell_type": "code",
   "execution_count": 8,
   "id": "cc6c04ea",
   "metadata": {},
   "outputs": [
    {
     "name": "stdout",
     "output_type": "stream",
     "text": [
      "25\n",
      "30\n"
     ]
    }
   ],
   "source": [
    "print(len(set(americas_1997.country)))\n",
    "print(len(set(europe_1997.country)))"
   ]
  },
  {
   "cell_type": "code",
   "execution_count": 9,
   "id": "fe94f39d",
   "metadata": {},
   "outputs": [
    {
     "name": "stdout",
     "output_type": "stream",
     "text": [
      "Mean Life Expectancy in Americas: \n",
      "71.15048\n",
      "Mean Life Expectancy in Europe: \n",
      "75.50516666666667\n",
      "Median Life Expectancy in Americas: \n",
      "72.146\n",
      "Median Life Expectancy in Europe: \n",
      "76.116\n"
     ]
    }
   ],
   "source": [
    "print('Mean Life Expectancy in Americas: ')\n",
    "print(americas_1997.lifeExpectancy.mean())\n",
    "print('Mean Life Expectancy in Europe: ')\n",
    "print(europe_1997.lifeExpectancy.mean())\n",
    "print('Median Life Expectancy in Americas: ')\n",
    "print(americas_1997.lifeExpectancy.median())\n",
    "print('Median Life Expectancy in Europe: ')\n",
    "print(europe_1997.lifeExpectancy.median())"
   ]
  },
  {
   "cell_type": "code",
   "execution_count": null,
   "id": "e9c43723",
   "metadata": {},
   "outputs": [],
   "source": []
  }
 ],
 "metadata": {
  "kernelspec": {
   "display_name": "Python 3 (ipykernel)",
   "language": "python",
   "name": "python3"
  },
  "language_info": {
   "codemirror_mode": {
    "name": "ipython",
    "version": 3
   },
   "file_extension": ".py",
   "mimetype": "text/x-python",
   "name": "python",
   "nbconvert_exporter": "python",
   "pygments_lexer": "ipython3",
   "version": "3.9.7"
  }
 },
 "nbformat": 4,
 "nbformat_minor": 5
}
